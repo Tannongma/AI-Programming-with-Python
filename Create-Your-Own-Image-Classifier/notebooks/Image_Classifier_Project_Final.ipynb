{
  "cells": [
    {
      "cell_type": "markdown",
      "metadata": {
        "id": "MnKUJj4qnEV5"
      },
      "source": [
        "## Prepare the workspace"
      ]
    },
    {
      "cell_type": "code",
      "execution_count": null,
      "metadata": {
        "colab": {
          "base_uri": "https://localhost:8080/"
        },
        "id": "PT6xxH_xNyeb",
        "outputId": "b0206ca3-6345-45c8-d400-818cb0f1f4d4"
      },
      "outputs": [
        {
          "output_type": "stream",
          "name": "stdout",
          "text": [
            "Mounted at /content/drive\n"
          ]
        }
      ],
      "source": [
        "from google.colab import drive\n",
        "drive.mount('/content/drive')"
      ]
    },
    {
      "cell_type": "code",
      "execution_count": null,
      "metadata": {
        "colab": {
          "base_uri": "https://localhost:8080/"
        },
        "id": "pa2slU_dnEWJ",
        "outputId": "ed0c0029-4187-4fec-cd73-c6c0530c0479",
        "scrolled": true
      },
      "outputs": [
        {
          "output_type": "stream",
          "name": "stdout",
          "text": [
            "2.5.1+cu124\n",
            "False\n"
          ]
        }
      ],
      "source": [
        "# Check torch version and CUDA status if GPU is enabled.\n",
        "import torch\n",
        "print(torch.__version__)\n",
        "print(torch.cuda.is_available()) # Should return True when GPU is enabled."
      ]
    },
    {
      "cell_type": "markdown",
      "metadata": {
        "id": "7esOuvmAnEWS"
      },
      "source": [
        "# Developing an AI application\n",
        "\n",
        "Going forward, AI algorithms will be incorporated into more and more everyday applications. For example, you might want to include an image classifier in a smart phone app. To do this, you'd use a deep learning model trained on hundreds of thousands of images as part of the overall application architecture. A large part of software development in the future will be using these types of models as common parts of applications.\n",
        "\n",
        "In this project, you'll train an image classifier to recognize different species of flowers. You can imagine using something like this in a phone app that tells you the name of the flower your camera is looking at. In practice you'd train this classifier, then export it for use in your application. We'll be using [this dataset](http://www.robots.ox.ac.uk/~vgg/data/flowers/102/index.html) of 102 flower categories, you can see a few examples below.\n",
        "\n",
        "<img src='assets/Flowers.png' width=500px>\n",
        "\n",
        "The project is broken down into multiple steps:\n",
        "\n",
        "* Load and preprocess the image dataset\n",
        "* Train the image classifier on your dataset\n",
        "* Use the trained classifier to predict image content\n",
        "\n",
        "We'll lead you through each part which you'll implement in Python.\n",
        "\n",
        "When you've completed this project, you'll have an application that can be trained on any set of labeled images. Here your network will be learning about flowers and end up as a command line application. But, what you do with your new skills depends on your imagination and effort in building a dataset. For example, imagine an app where you take a picture of a car, it tells you what the make and model is, then looks up information about it. Go build your own dataset and make something new.\n",
        "\n",
        "First up is importing the packages you'll need. It's good practice to keep all the imports at the beginning of your code. As you work through this notebook and find you need to import a package, make sure to add the import up here."
      ]
    },
    {
      "cell_type": "code",
      "execution_count": null,
      "metadata": {
        "id": "R2opbi5jnEWV"
      },
      "outputs": [],
      "source": [
        "# Imports here\n",
        "\n",
        "import torchvision.models as models\n",
        "\n",
        "from torchvision.datasets import Flowers102 as flowers\n",
        "from torchvision import transforms, disable_beta_transforms_warning\n",
        "from torchvision.transforms import v2\n",
        "\n",
        "from torch import nn\n",
        "from torch.nn import functional as F\n",
        "from torch.utils.data import DataLoader\n",
        "from torch.optim.lr_scheduler import StepLR, ReduceLROnPlateau\n",
        "\n",
        "import scipy\n",
        "import numpy as np\n",
        "import matplotlib.pyplot as plt\n",
        "from PIL import Image\n",
        "\n",
        "# disable pytorch warnings\n",
        "disable_beta_transforms_warning()"
      ]
    },
    {
      "cell_type": "markdown",
      "metadata": {
        "id": "trxdRCNbnEWZ"
      },
      "source": [
        "## Load the data\n",
        "\n",
        "Here you'll use `torchvision` to load the data ([documentation](http://pytorch.org/docs/0.3.0/torchvision/index.html)). The data should be included alongside this notebook, otherwise you can [download it here](https://s3.amazonaws.com/content.udacity-data.com/nd089/flower_data.tar.gz)."
      ]
    },
    {
      "cell_type": "markdown",
      "metadata": {
        "id": "jC0Vx2NNnEWd"
      },
      "source": [
        "If you do not find the `flowers/` dataset in the current directory, **/workspace/home/aipnd-project/**, you can download it using the following commands.\n",
        "\n",
        "**Method 1**\n",
        "```bash\n",
        "!wget 'https://s3.amazonaws.com/content.udacity-data.com/nd089/flower_data.tar.gz'\n",
        "!unlink flowers\n",
        "!mkdir flowers && tar -xzf flower_data.tar.gz -C flowers\n",
        "```\n",
        "\n",
        "\n",
        "**Method 2**\n",
        "```bash\n",
        "!cp -r /data/ .\n",
        "```"
      ]
    },
    {
      "cell_type": "markdown",
      "metadata": {
        "id": "R_SmefbVnEWf"
      },
      "source": [
        "## Data Description\n",
        "The dataset is split into three parts, training, validation, and testing. For the training, you'll want to apply transformations such as random scaling, cropping, and flipping. This will help the network generalize leading to better performance. You'll also need to make sure the input data is resized to 224x224 pixels as required by the pre-trained networks.\n",
        "\n",
        "The validation and testing sets are used to measure the model's performance on data it hasn't seen yet. For this you don't want any scaling or rotation transformations, but you'll need to resize then crop the images to the appropriate size.\n",
        "\n",
        "The pre-trained networks you'll use were trained on the ImageNet dataset where each color channel was normalized separately. For all three sets you'll need to normalize the means and standard deviations of the images to what the network expects. For the means, it's `[0.485, 0.456, 0.406]` and for the standard deviations `[0.229, 0.224, 0.225]`, calculated from the ImageNet images.  These values will shift each color channel to be centered at 0 and range from -1 to 1.\n"
      ]
    },
    {
      "cell_type": "code",
      "execution_count": null,
      "metadata": {
        "id": "XDvs5JfTnEWg"
      },
      "outputs": [],
      "source": [
        "data_dir = 'flowers'\n",
        "train_dir = data_dir + '/train'\n",
        "valid_dir = data_dir + '/valid'\n",
        "test_dir = data_dir + '/test'"
      ]
    },
    {
      "cell_type": "code",
      "execution_count": null,
      "metadata": {
        "id": "h9FCoJv7nEWj",
        "colab": {
          "base_uri": "https://localhost:8080/"
        },
        "outputId": "1c86c055-a47b-452a-ec90-3ad207ee1d38"
      },
      "outputs": [
        {
          "output_type": "stream",
          "name": "stdout",
          "text": [
            "Downloading https://thor.robots.ox.ac.uk/flowers/102/102flowers.tgz to flowers/test/flowers-102/102flowers.tgz\n"
          ]
        },
        {
          "output_type": "stream",
          "name": "stderr",
          "text": [
            "100%|██████████| 345M/345M [00:28<00:00, 12.2MB/s]\n"
          ]
        },
        {
          "output_type": "stream",
          "name": "stdout",
          "text": [
            "Extracting flowers/test/flowers-102/102flowers.tgz to flowers/test/flowers-102\n",
            "Downloading https://thor.robots.ox.ac.uk/flowers/102/imagelabels.mat to flowers/test/flowers-102/imagelabels.mat\n"
          ]
        },
        {
          "output_type": "stream",
          "name": "stderr",
          "text": [
            "100%|██████████| 502/502 [00:00<00:00, 1.08MB/s]\n"
          ]
        },
        {
          "output_type": "stream",
          "name": "stdout",
          "text": [
            "Downloading https://thor.robots.ox.ac.uk/flowers/102/setid.mat to flowers/test/flowers-102/setid.mat\n"
          ]
        },
        {
          "output_type": "stream",
          "name": "stderr",
          "text": [
            "100%|██████████| 15.0k/15.0k [00:00<00:00, 14.3MB/s]\n"
          ]
        },
        {
          "output_type": "stream",
          "name": "stdout",
          "text": [
            "Downloading https://thor.robots.ox.ac.uk/flowers/102/102flowers.tgz to flowers/valid/flowers-102/102flowers.tgz\n"
          ]
        },
        {
          "output_type": "stream",
          "name": "stderr",
          "text": [
            "100%|██████████| 345M/345M [00:09<00:00, 35.0MB/s]\n"
          ]
        },
        {
          "output_type": "stream",
          "name": "stdout",
          "text": [
            "Extracting flowers/valid/flowers-102/102flowers.tgz to flowers/valid/flowers-102\n",
            "Downloading https://thor.robots.ox.ac.uk/flowers/102/imagelabels.mat to flowers/valid/flowers-102/imagelabels.mat\n"
          ]
        },
        {
          "output_type": "stream",
          "name": "stderr",
          "text": [
            "100%|██████████| 502/502 [00:00<00:00, 428kB/s]\n"
          ]
        },
        {
          "output_type": "stream",
          "name": "stdout",
          "text": [
            "Downloading https://thor.robots.ox.ac.uk/flowers/102/setid.mat to flowers/valid/flowers-102/setid.mat\n"
          ]
        },
        {
          "output_type": "stream",
          "name": "stderr",
          "text": [
            "100%|██████████| 15.0k/15.0k [00:00<00:00, 11.8MB/s]\n"
          ]
        }
      ],
      "source": [
        "\n",
        "# TODO: Define your transforms for the training, validation, and testing sets\n",
        "\n",
        "\n",
        "def dataloader(split):\n",
        "\n",
        "    train_transforms = transforms.Compose(\n",
        "            [transforms.Resize(size=256),\n",
        "             transforms.RandomResizedCrop(size=(224,224)),\n",
        "             transforms.RandomHorizontalFlip(),\n",
        "             transforms.RandomRotation(15),\n",
        "             transforms.RandomGrayscale(p=0.1),\n",
        "             transforms.ToTensor(),\n",
        "             transforms.Normalize(mean=[0.485, 0.456, 0.406], std=[0.229, 0.224, 0.225])]\n",
        "    )\n",
        "\n",
        "\n",
        "\n",
        "    # Transformation for validation and test datasets\n",
        "    eval_transforms = transforms.Compose([\n",
        "        transforms.Resize(size=256),\n",
        "        transforms.CenterCrop(size=(224, 224)),\n",
        "        transforms.ToTensor(),\n",
        "        transforms.Normalize(mean=[0.485, 0.456, 0.406], std=[0.229, 0.224, 0.225]),\n",
        "])\n",
        "\n",
        "    # TODO: Load the datasets with ImageFolder\n",
        "    #  Use torchvision to load the data\n",
        "\n",
        "    train_data = flowers(\n",
        "        root=test_dir,\n",
        "        split=\"train\",\n",
        "        transform=train_transforms,\n",
        "        target_transform=None,\n",
        "        download=True\n",
        "    )\n",
        "\n",
        "    val_data = flowers(\n",
        "        root=valid_dir,\n",
        "        split=\"val\",\n",
        "        transform=eval_transforms,\n",
        "        target_transform=None,\n",
        "        download=True\n",
        "    )\n",
        "\n",
        "    test_data = flowers(\n",
        "        root=test_dir,\n",
        "        split=\"test\",\n",
        "        transform=eval_transforms,\n",
        "        target_transform=None,\n",
        "        download=True\n",
        "    )\n",
        "\n",
        "\n",
        "    # TODO: Using the image datasets and the trainforms, define the dataloaders\n",
        "    train_dataloader = DataLoader(train_data,\n",
        "                                              batch_size=40,\n",
        "                                              shuffle=True\n",
        "                                 )\n",
        "    test_dataloader = DataLoader(test_data,\n",
        "                                              batch_size=40,\n",
        "                                              shuffle=False\n",
        "                                )\n",
        "    val_dataloader = DataLoader(val_data,\n",
        "                                              batch_size=40,\n",
        "                                              shuffle=False\n",
        "                                )\n",
        "\n",
        "\n",
        "    if split == \"train\":\n",
        "        return train_dataloader\n",
        "    if split == \"test\":\n",
        "        return test_dataloader\n",
        "    if split == \"val\":\n",
        "        return val_dataloader\n",
        "\n",
        "\n",
        "\n",
        "\n",
        "\n",
        "train_dataloader = dataloader(\"train\")\n",
        "\n",
        "test_dataloader = dataloader(\"test\")\n",
        "\n",
        "val_dataloader = dataloader(\"val\")\n",
        "\n"
      ]
    },
    {
      "cell_type": "markdown",
      "metadata": {
        "id": "zo9aph0NnEWk"
      },
      "source": [
        "### Label mapping\n",
        "\n",
        "You'll also need to load in a mapping from category label to category name. You can find this in the file `cat_to_name.json`. It's a JSON object which you can read in with the [`json` module](https://docs.python.org/2/library/json.html). This will give you a dictionary mapping the integer encoded categories to the actual names of the flowers."
      ]
    },
    {
      "cell_type": "code",
      "execution_count": null,
      "metadata": {
        "colab": {
          "base_uri": "https://localhost:8080/"
        },
        "id": "arvb1MWknEWm",
        "outputId": "2b3210b8-0433-4cca-a213-34b1b2b843ae"
      },
      "outputs": [
        {
          "output_type": "execute_result",
          "data": {
            "text/plain": [
              "{'21': 'fire lily',\n",
              " '3': 'canterbury bells',\n",
              " '45': 'bolero deep blue',\n",
              " '1': 'pink primrose',\n",
              " '34': 'mexican aster',\n",
              " '27': 'prince of wales feathers',\n",
              " '7': 'moon orchid',\n",
              " '16': 'globe-flower',\n",
              " '25': 'grape hyacinth',\n",
              " '26': 'corn poppy',\n",
              " '79': 'toad lily',\n",
              " '39': 'siam tulip',\n",
              " '24': 'red ginger',\n",
              " '67': 'spring crocus',\n",
              " '35': 'alpine sea holly',\n",
              " '32': 'garden phlox',\n",
              " '10': 'globe thistle',\n",
              " '6': 'tiger lily',\n",
              " '93': 'ball moss',\n",
              " '33': 'love in the mist',\n",
              " '9': 'monkshood',\n",
              " '102': 'blackberry lily',\n",
              " '14': 'spear thistle',\n",
              " '19': 'balloon flower',\n",
              " '100': 'blanket flower',\n",
              " '13': 'king protea',\n",
              " '49': 'oxeye daisy',\n",
              " '15': 'yellow iris',\n",
              " '61': 'cautleya spicata',\n",
              " '31': 'carnation',\n",
              " '64': 'silverbush',\n",
              " '68': 'bearded iris',\n",
              " '63': 'black-eyed susan',\n",
              " '69': 'windflower',\n",
              " '62': 'japanese anemone',\n",
              " '20': 'giant white arum lily',\n",
              " '38': 'great masterwort',\n",
              " '4': 'sweet pea',\n",
              " '86': 'tree mallow',\n",
              " '101': 'trumpet creeper',\n",
              " '42': 'daffodil',\n",
              " '22': 'pincushion flower',\n",
              " '2': 'hard-leaved pocket orchid',\n",
              " '54': 'sunflower',\n",
              " '66': 'osteospermum',\n",
              " '70': 'tree poppy',\n",
              " '85': 'desert-rose',\n",
              " '99': 'bromelia',\n",
              " '87': 'magnolia',\n",
              " '5': 'english marigold',\n",
              " '92': 'bee balm',\n",
              " '28': 'stemless gentian',\n",
              " '97': 'mallow',\n",
              " '57': 'gaura',\n",
              " '40': 'lenten rose',\n",
              " '47': 'marigold',\n",
              " '59': 'orange dahlia',\n",
              " '48': 'buttercup',\n",
              " '55': 'pelargonium',\n",
              " '36': 'ruby-lipped cattleya',\n",
              " '91': 'hippeastrum',\n",
              " '29': 'artichoke',\n",
              " '71': 'gazania',\n",
              " '90': 'canna lily',\n",
              " '18': 'peruvian lily',\n",
              " '98': 'mexican petunia',\n",
              " '8': 'bird of paradise',\n",
              " '30': 'sweet william',\n",
              " '17': 'purple coneflower',\n",
              " '52': 'wild pansy',\n",
              " '84': 'columbine',\n",
              " '12': \"colt's foot\",\n",
              " '11': 'snapdragon',\n",
              " '96': 'camellia',\n",
              " '23': 'fritillary',\n",
              " '50': 'common dandelion',\n",
              " '44': 'poinsettia',\n",
              " '53': 'primula',\n",
              " '72': 'azalea',\n",
              " '65': 'californian poppy',\n",
              " '80': 'anthurium',\n",
              " '76': 'morning glory',\n",
              " '37': 'cape flower',\n",
              " '56': 'bishop of llandaff',\n",
              " '60': 'pink-yellow dahlia',\n",
              " '82': 'clematis',\n",
              " '58': 'geranium',\n",
              " '75': 'thorn apple',\n",
              " '41': 'barbeton daisy',\n",
              " '95': 'bougainvillea',\n",
              " '43': 'sword lily',\n",
              " '83': 'hibiscus',\n",
              " '78': 'lotus lotus',\n",
              " '88': 'cyclamen',\n",
              " '94': 'foxglove',\n",
              " '81': 'frangipani',\n",
              " '74': 'rose',\n",
              " '89': 'watercress',\n",
              " '73': 'water lily',\n",
              " '46': 'wallflower',\n",
              " '77': 'passion flower',\n",
              " '51': 'petunia'}"
            ]
          },
          "metadata": {},
          "execution_count": 10
        }
      ],
      "source": [
        "import json\n",
        "from pathlib import Path\n",
        "\n",
        "path = \"/content/drive/MyDrive/Colab Notebooks/ML/Udacity/cat_to_name.json\"\n",
        "rel_path = Path(\"cat_to_name.json\").resolve().as_posix()\n",
        "\n",
        "with open(path, 'r') as f:\n",
        "    cat_to_name = json.load(f)\n",
        "\n",
        "flowers_classes = cat_to_name\n",
        "\n",
        "flowers_classes"
      ]
    },
    {
      "cell_type": "markdown",
      "metadata": {
        "id": "Tk0Zl9NfnEWp"
      },
      "source": [
        "# Building and training the classifier\n",
        "\n",
        "Now that the data is ready, it's time to build and train the classifier. As usual, you should use one of the pretrained models from `torchvision.models` to get the image features. Build and train a new feed-forward classifier using those features.\n",
        "\n",
        "We're going to leave this part up to you. Refer to [the rubric](https://review.udacity.com/#!/rubrics/1663/view) for guidance on successfully completing this section. Things you'll need to do:\n",
        "\n",
        "* Load a [pre-trained network](http://pytorch.org/docs/master/torchvision/models.html) (If you need a starting point, the VGG networks work great and are straightforward to use)\n",
        "* Define a new, untrained feed-forward network as a classifier, using ReLU activations and dropout\n",
        "* Train the classifier layers using backpropagation using the pre-trained network to get the features\n",
        "* Track the loss and accuracy on the validation set to determine the best hyperparameters\n",
        "\n",
        "We've left a cell open for you below, but use as many as you need. Our advice is to break the problem up into smaller parts you can run separately. Check that each part is doing what you expect, then move on to the next. You'll likely find that as you work through each part, you'll need to go back and modify your previous code. This is totally normal!\n",
        "\n",
        "When training make sure you're updating only the weights of the feed-forward network. You should be able to get the validation accuracy above 70% if you build everything right. Make sure to try different hyperparameters (learning rate, units in the classifier, epochs, etc) to find the best model. Save those hyperparameters to use as default values in the next part of the project.\n",
        "\n",
        "One last important tip if you're using the workspace to run your code: To avoid having your workspace disconnect during the long-running tasks in this notebook, please read in the earlier page in this lesson called Intro to\n",
        "GPU Workspaces about Keeping Your Session Active.\n",
        "\n",
        "## Note for Workspace users:\n",
        "If your network is over 1 GB when saved as a checkpoint, there might be issues with saving backups in your workspace. Typically this happens with wide dense layers after the convolutional layers. If your saved checkpoint is larger than 1 GB (you can open a terminal and check with `ls -lh`), you should reduce the size of your hidden layers and train again."
      ]
    },
    {
      "cell_type": "code",
      "execution_count": null,
      "metadata": {
        "id": "mnnwHJOLnEWr"
      },
      "outputs": [],
      "source": [
        "# TODO: Build and train your network\n",
        "\n",
        "\n",
        "# workspace configurations\n",
        "def check_accelerator():\n",
        "    \"\"\"Helper function to set and use accelerator if available\"\"\"\n",
        "\n",
        "    if torch.cuda.is_available():\n",
        "        device = torch.device(\"cuda\")\n",
        "    elif torch.backends.mps.is_available():\n",
        "        device = torch.device(\"mps\")\n",
        "    else:\n",
        "        device = torch.device(\"cpu\")\n",
        "\n",
        "    print(f\"Using device: {device}\\n\")\n",
        "\n",
        "    return device\n",
        "\n",
        "\n",
        "\n",
        "resnet = models.resnet50(weights=\"DEFAULT\")\n",
        "mobilenet= models.mobilenet_v2(weights=\"DEFAULT\")\n",
        "efficientnet = models.efficientnet_b0(weights=\"DEFAULT\")\n",
        "\n",
        "pre_trained = {'resnet': resnet, 'mobilenet': mobilenet, 'efficientnet': efficientnet}\n",
        "\n",
        "\n",
        "# Load the pre-trained vgg16 model from torchvision models library\n",
        "model = pre_trained['mobilenet']\n",
        "\n",
        "\n",
        "\n",
        "\n",
        "## Define new adapted model\n",
        "def get_first_fc_layer(model):\n",
        "    # Check if the model has a classifier or fc attribute\n",
        "    if hasattr(model, 'classifier'):\n",
        "        if isinstance(model.classifier, torch.nn.Sequential):\n",
        "            for layer in model.classifier:\n",
        "                if isinstance(layer, torch.nn.Linear):\n",
        "                    return layer\n",
        "    elif hasattr(model, 'fc'):\n",
        "        # For models like ResNet, the fully connected layer is in 'fc'\n",
        "        if isinstance(model.fc, torch.nn.Linear):\n",
        "            return model.fc\n",
        "    return \"No fc layer found in model head\"\n",
        "\n",
        "\n",
        "\n",
        "fc1_in = get_first_fc_layer(model).in_features\n",
        "fc1_out = 512\n",
        "fc2_in, fc2_out = (512, 102)\n",
        "\n",
        "\n",
        "classifier = nn.Sequential(nn.Linear(fc1_in, fc1_out),\n",
        "                               nn.ReLU(),\n",
        "                               nn.Dropout(p=0.1),\n",
        "                               nn.Linear(fc2_in, fc2_out), # output_size = classes of flowers in the dataset\n",
        "                            )\n",
        "\n",
        "\n",
        "# Attach new layers to be trained on the model\n",
        "if hasattr(model, 'classifier'):\n",
        "    model.classifier = classifier\n",
        "else:\n",
        "    model.fc = classifier\n",
        "\n",
        "\n",
        "print(model,\"\\n\")\n",
        "\n",
        "\n",
        "# Prepare model for training\n",
        "def freeze_layers(model):\n",
        "  \"\"\" Freeze all model layers except from classifier fc layers to prepare for TL training \"\"\"\n",
        "\n",
        "  for params in model.parameters():\n",
        "      params.requires_grad = False\n",
        "\n",
        "  # Check if the model has a classifier or fc attribute\n",
        "  if hasattr(model, 'classifier'):\n",
        "      if isinstance(model.classifier, nn.Sequential):\n",
        "          for layer in model.classifier:\n",
        "              if isinstance(layer, nn.Linear):\n",
        "                  for params in model.classifier.parameters():\n",
        "                      params.requires_grad = True\n",
        "  elif hasattr(model, 'fc'):\n",
        "      # For models like ResNet, the fully connected layer is in 'fc'\n",
        "      if isinstance(model.fc, nn.Sequential):\n",
        "          for params in model.fc.parameters():\n",
        "              params.requires_grad = True\n",
        "  return \"No fc layer found in model head\"\n",
        "\n",
        "# Prepare model for training\n",
        "freeze_layers(model)\n",
        "\n",
        "device = check_accelerator()\n",
        "\n",
        "# Define the loss criterion and optimizer\n",
        "criterion = nn.CrossEntropyLoss()\n",
        "\n",
        "if hasattr(model, 'classifier'):\n",
        "    optimizer = torch.optim.AdamW(model.classifier.parameters(), lr=0.0005)\n",
        "else:\n",
        "    optimizer = torch.optim.AdamW(model.fc.parameters(), lr=0.0005)\n",
        "\n",
        "\n",
        "# define scheduler to decay the learning rate\n",
        "#scheduler = ReduceLROnPlateau(optimizer, mode='min', factor=0.0005, patience=5, verbose=True)\n",
        "\n",
        "epochs = 50\n",
        "\n",
        "\n",
        "## Train model\n",
        "\n",
        "def train_model(X_dataloader,\n",
        "                eval_dataloader,\n",
        "                epochs,\n",
        "                loss_function,\n",
        "                optimizer,\n",
        "                device,\n",
        "                model,\n",
        "                print_every=10):\n",
        "\n",
        "    model = model.to(device)\n",
        "    X_avg_loss = 0\n",
        "\n",
        "   # training loop\n",
        "    for epoch in range(epochs):\n",
        "        X_total_loss = 0\n",
        "        batch_samples = 0\n",
        "\n",
        "        for batch_num, (X, y) in enumerate(X_dataloader):\n",
        "\n",
        "            model.train()\n",
        "            # Move tensors to the device\n",
        "            X = X.to(device)\n",
        "            y = y.to(device)\n",
        "\n",
        "            # sets model gradients to zero calculated gradients\n",
        "            optimizer.zero_grad()\n",
        "\n",
        "            # forward pass\n",
        "            X_logits = model(X)\n",
        "\n",
        "            # compute loss and perform backpropagation\n",
        "            X_loss = loss_function(X_logits, y)\n",
        "            X_loss.backward()\n",
        "\n",
        "            # update the weights\n",
        "            optimizer.step()\n",
        "\n",
        "            X_total_loss += X_loss.item()\n",
        "            batch_samples += X_logits.shape[0]\n",
        "            X_avg_loss = X_total_loss/batch_samples\n",
        "\n",
        "            if (batch_num % print_every == 0):\n",
        "                print(\n",
        "                  f\"\\nEpoch [{epoch + 1}/{epochs}], Training Batch [{batch_num + 1}/{len(X_dataloader)}], Batch Training Loss: {X_loss.item():.4f}, Epoch Average Training Loss: {X_avg_loss:.4f}.\\n\"\n",
        "              )\n",
        "\n",
        "            if (batch_num+1) == 26:\n",
        "                print(\n",
        "                  f\"\\nEpoch Training Metrics = [{epoch + 1}/{epochs}], Training Batch [{batch_num + 1}/{len(X_dataloader)}], Batch Training Loss: {X_loss.item():.4f}, Epoch Average Training Loss: {X_avg_loss:.4f}.\"\n",
        "              )\n",
        "                # Print learning rate\n",
        "                #print(f\"Epoch [{epoch + 1}/{epochs}], Learning Rate: {optimizer.param_groups[0]['lr']:.4f}\\n\")\n",
        "\n",
        "        # evaluation loop\n",
        "        val_loss = compute_accuracy(eval_dataloader, loss_function, device, model)\n",
        "\n",
        "        # step scheduler\n",
        "        #scheduler.step(val_loss)\n",
        "\n",
        "\n",
        "\n",
        "\n",
        "# define accuracy metric\n",
        "\n",
        "@torch.no_grad()\n",
        "def compute_accuracy(data_loader, loss_function, device, model, print_every=10):\n",
        "\n",
        "    model = model.to(device)\n",
        "    model.eval()\n",
        "\n",
        "    total_eval_loss = 0\n",
        "    sum_eval_loss = 0\n",
        "    sum_eval_accuracy = 0\n",
        "    batch_samples = 0\n",
        "    num_batchs = 0\n",
        "\n",
        "    for batch_num, (X, y) in enumerate(data_loader):\n",
        "\n",
        "        # Move tensors to the device\n",
        "        X = X.to(device)\n",
        "        y = y.to(device)\n",
        "\n",
        "        # forward pass\n",
        "        X_logits = model(X)\n",
        "\n",
        "        # compute evaluation loss\n",
        "        eval_loss = loss_function(X_logits, y)\n",
        "        sum_eval_loss += eval_loss.item()\n",
        "\n",
        "\n",
        "        X_preds_classes = X_logits.argmax(dim=1)\n",
        "\n",
        "        batch_samples += X_logits.shape[0]\n",
        "        num_batchs += 1\n",
        "\n",
        "        pred_correct = X_preds_classes == y.view(*X_preds_classes.shape)\n",
        "\n",
        "        batch_accuracy = pred_correct.to(torch.float).mean().item()\n",
        "        sum_eval_accuracy += batch_accuracy\n",
        "\n",
        "        avg_eval_loss = sum_eval_loss/batch_samples\n",
        "        avg_eval_accuracy = sum_eval_accuracy/num_batchs\n",
        "\n",
        "\n",
        "        if (batch_num % print_every == 0):\n",
        "            # compute and print accuracy for the interval data\n",
        "\n",
        "            print(\n",
        "                f\"   Evaluation Batch [{batch_num + 1}/{len(data_loader)}], Evaluation Loss: {eval_loss.item():.4f}, Average Evaluation Loss: {avg_eval_loss:.4f}, Accuracy: {avg_eval_accuracy:.4f}.\"\n",
        "                )\n",
        "\n",
        "        if (batch_num+1) == len(data_loader):\n",
        "            # compute and print accuracy for the epoch\n",
        "\n",
        "            print(\n",
        "                f\"\\n   Epoch Evaluation Metrics = [{batch_num + 1}/{len(data_loader)}], Evaluation Loss: {eval_loss.item():.4f}, Average Evaluation Loss: {avg_eval_loss:.4f}, Accuracy: {avg_eval_accuracy:.4f}.\\n\"\n",
        "                )\n",
        "\n",
        "    return eval_loss.item()\n",
        "\n",
        "\n",
        "\n",
        "train_model(train_dataloader,\n",
        "                val_dataloader,\n",
        "                epochs=epochs,\n",
        "                loss_function=criterion,\n",
        "                optimizer=optimizer,\n",
        "                device=device,\n",
        "                model=model)\n",
        "\n"
      ]
    },
    {
      "cell_type": "markdown",
      "metadata": {
        "id": "eHTePp_RnEWt"
      },
      "source": [
        "## Testing your network\n",
        "\n",
        "It's good practice to test your trained network on test data, images the network has never seen either in training or validation. This will give you a good estimate for the model's performance on completely new images. Run the test images through the network and measure the accuracy, the same way you did validation. You should be able to reach around 70% accuracy on the test set if the model has been trained well."
      ]
    },
    {
      "cell_type": "code",
      "execution_count": null,
      "metadata": {
        "id": "2JpTmXrrnEWv"
      },
      "outputs": [],
      "source": [
        "# TODO: Do validation on the test set\n",
        "\n",
        "## Test model\n",
        "@torch.no_grad()\n",
        "def evaluate(data_loader,\n",
        "             loss_function,\n",
        "             device,\n",
        "             model,\n",
        "             epochs,\n",
        "             print_every=10):\n",
        "\n",
        "    for epoch in range(epochs):\n",
        "        print(f\"Evaluation Epoch [{epoch + 1}/{epochs}]\")\n",
        "\n",
        "        compute_accuracy(data_loader,\n",
        "                         loss_function,\n",
        "                         device,\n",
        "                         model,\n",
        "                         print_every)\n",
        "\n",
        "\n",
        "epochs = 3\n",
        "\n",
        "evaluate(test_dataloader,\n",
        "             criterion,\n",
        "             device,\n",
        "             model,\n",
        "             epochs)"
      ]
    },
    {
      "cell_type": "markdown",
      "metadata": {
        "id": "0ED0UGU4nEWw"
      },
      "source": [
        "## Save the checkpoint\n",
        "\n",
        "Now that your network is trained, save the model so you can load it later for making predictions. You probably want to save other things such as the mapping of classes to indices which you get from one of the image datasets: `image_datasets['train'].class_to_idx`. You can attach this to the model as an attribute which makes inference easier later on.\n",
        "\n",
        "```model.class_to_idx = image_datasets['train'].class_to_idx```\n",
        "\n",
        "Remember that you'll want to completely rebuild the model later so you can use it for inference. Make sure to include any information you need in the checkpoint. If you want to load the model and keep training, you'll want to save the number of epochs as well as the optimizer state, `optimizer.state_dict`. You'll likely want to use this trained model in the next part of the project, so best to save it now."
      ]
    },
    {
      "cell_type": "code",
      "execution_count": null,
      "metadata": {
        "id": "g420XitAnEWw",
        "colab": {
          "base_uri": "https://localhost:8080/",
          "height": 211
        },
        "outputId": "875d7325-c87f-440c-a7a7-12a02c39f6cd"
      },
      "outputs": [
        {
          "output_type": "error",
          "ename": "NameError",
          "evalue": "name 'model' is not defined",
          "traceback": [
            "\u001b[0;31m---------------------------------------------------------------------------\u001b[0m",
            "\u001b[0;31mNameError\u001b[0m                                 Traceback (most recent call last)",
            "\u001b[0;32m<ipython-input-11-38e127443f1f>\u001b[0m in \u001b[0;36m<cell line: 0>\u001b[0;34m()\u001b[0m\n\u001b[1;32m     11\u001b[0m torch.save({\n\u001b[1;32m     12\u001b[0m             \u001b[0;34m'epoch'\u001b[0m\u001b[0;34m:\u001b[0m \u001b[0mEPOCH\u001b[0m\u001b[0;34m,\u001b[0m\u001b[0;34m\u001b[0m\u001b[0;34m\u001b[0m\u001b[0m\n\u001b[0;32m---> 13\u001b[0;31m             \u001b[0;34m'model_state_dict'\u001b[0m\u001b[0;34m:\u001b[0m \u001b[0mmodel\u001b[0m\u001b[0;34m.\u001b[0m\u001b[0mstate_dict\u001b[0m\u001b[0;34m(\u001b[0m\u001b[0;34m)\u001b[0m\u001b[0;34m,\u001b[0m\u001b[0;34m\u001b[0m\u001b[0;34m\u001b[0m\u001b[0m\n\u001b[0m\u001b[1;32m     14\u001b[0m             \u001b[0;34m'optimizer_state_dict'\u001b[0m\u001b[0;34m:\u001b[0m \u001b[0moptimizer\u001b[0m\u001b[0;34m.\u001b[0m\u001b[0mstate_dict\u001b[0m\u001b[0;34m(\u001b[0m\u001b[0;34m)\u001b[0m\u001b[0;34m,\u001b[0m\u001b[0;34m\u001b[0m\u001b[0;34m\u001b[0m\u001b[0m\n\u001b[1;32m     15\u001b[0m             \u001b[0;34m'loss'\u001b[0m\u001b[0;34m:\u001b[0m \u001b[0mLOSS\u001b[0m\u001b[0;34m,\u001b[0m\u001b[0;34m\u001b[0m\u001b[0;34m\u001b[0m\u001b[0m\n",
            "\u001b[0;31mNameError\u001b[0m: name 'model' is not defined"
          ]
        }
      ],
      "source": [
        "# TODO: Save the checkpoint\n",
        "\n",
        "# attach the mapping of classes to indices to the model\n",
        "\n",
        "EPOCH = 50\n",
        "LOSS = 0.0001\n",
        "PATH = \"/content/drive/MyDrive/Colab Notebooks/ML/Udacity/models/flowers_mobilenet_classifierV4.1.pth\"\n",
        "default_PATH = \"./checkpointV1.0.pth\"\n",
        "\n",
        "# Save the model parameters\n",
        "torch.save({\n",
        "            'epoch': EPOCH,\n",
        "            'model_state_dict': model.state_dict(),\n",
        "            'optimizer_state_dict': optimizer.state_dict(),\n",
        "            'loss': LOSS,\n",
        "            'cat_to_name': cat_to_name\n",
        "             }, PATH)\n",
        "\n",
        "# Save the entire model\n",
        "torch.save(model, PATH)"
      ]
    },
    {
      "cell_type": "markdown",
      "metadata": {
        "id": "1nzLpCWCnEWx"
      },
      "source": [
        "## Loading the checkpoint\n",
        "\n",
        "At this point it's good to write a function that can load a checkpoint and rebuild the model. That way you can come back to this project and keep working on it without having to retrain the network."
      ]
    },
    {
      "cell_type": "code",
      "execution_count": null,
      "metadata": {
        "id": "HnW6BLlHnEWx",
        "colab": {
          "base_uri": "https://localhost:8080/"
        },
        "outputId": "d2977aeb-685d-4119-9570-a4f353ce5ca5"
      },
      "outputs": [
        {
          "output_type": "execute_result",
          "data": {
            "text/plain": [
              "MobileNetV2(\n",
              "  (features): Sequential(\n",
              "    (0): Conv2dNormActivation(\n",
              "      (0): Conv2d(3, 32, kernel_size=(3, 3), stride=(2, 2), padding=(1, 1), bias=False)\n",
              "      (1): BatchNorm2d(32, eps=1e-05, momentum=0.1, affine=True, track_running_stats=True)\n",
              "      (2): ReLU6(inplace=True)\n",
              "    )\n",
              "    (1): InvertedResidual(\n",
              "      (conv): Sequential(\n",
              "        (0): Conv2dNormActivation(\n",
              "          (0): Conv2d(32, 32, kernel_size=(3, 3), stride=(1, 1), padding=(1, 1), groups=32, bias=False)\n",
              "          (1): BatchNorm2d(32, eps=1e-05, momentum=0.1, affine=True, track_running_stats=True)\n",
              "          (2): ReLU6(inplace=True)\n",
              "        )\n",
              "        (1): Conv2d(32, 16, kernel_size=(1, 1), stride=(1, 1), bias=False)\n",
              "        (2): BatchNorm2d(16, eps=1e-05, momentum=0.1, affine=True, track_running_stats=True)\n",
              "      )\n",
              "    )\n",
              "    (2): InvertedResidual(\n",
              "      (conv): Sequential(\n",
              "        (0): Conv2dNormActivation(\n",
              "          (0): Conv2d(16, 96, kernel_size=(1, 1), stride=(1, 1), bias=False)\n",
              "          (1): BatchNorm2d(96, eps=1e-05, momentum=0.1, affine=True, track_running_stats=True)\n",
              "          (2): ReLU6(inplace=True)\n",
              "        )\n",
              "        (1): Conv2dNormActivation(\n",
              "          (0): Conv2d(96, 96, kernel_size=(3, 3), stride=(2, 2), padding=(1, 1), groups=96, bias=False)\n",
              "          (1): BatchNorm2d(96, eps=1e-05, momentum=0.1, affine=True, track_running_stats=True)\n",
              "          (2): ReLU6(inplace=True)\n",
              "        )\n",
              "        (2): Conv2d(96, 24, kernel_size=(1, 1), stride=(1, 1), bias=False)\n",
              "        (3): BatchNorm2d(24, eps=1e-05, momentum=0.1, affine=True, track_running_stats=True)\n",
              "      )\n",
              "    )\n",
              "    (3): InvertedResidual(\n",
              "      (conv): Sequential(\n",
              "        (0): Conv2dNormActivation(\n",
              "          (0): Conv2d(24, 144, kernel_size=(1, 1), stride=(1, 1), bias=False)\n",
              "          (1): BatchNorm2d(144, eps=1e-05, momentum=0.1, affine=True, track_running_stats=True)\n",
              "          (2): ReLU6(inplace=True)\n",
              "        )\n",
              "        (1): Conv2dNormActivation(\n",
              "          (0): Conv2d(144, 144, kernel_size=(3, 3), stride=(1, 1), padding=(1, 1), groups=144, bias=False)\n",
              "          (1): BatchNorm2d(144, eps=1e-05, momentum=0.1, affine=True, track_running_stats=True)\n",
              "          (2): ReLU6(inplace=True)\n",
              "        )\n",
              "        (2): Conv2d(144, 24, kernel_size=(1, 1), stride=(1, 1), bias=False)\n",
              "        (3): BatchNorm2d(24, eps=1e-05, momentum=0.1, affine=True, track_running_stats=True)\n",
              "      )\n",
              "    )\n",
              "    (4): InvertedResidual(\n",
              "      (conv): Sequential(\n",
              "        (0): Conv2dNormActivation(\n",
              "          (0): Conv2d(24, 144, kernel_size=(1, 1), stride=(1, 1), bias=False)\n",
              "          (1): BatchNorm2d(144, eps=1e-05, momentum=0.1, affine=True, track_running_stats=True)\n",
              "          (2): ReLU6(inplace=True)\n",
              "        )\n",
              "        (1): Conv2dNormActivation(\n",
              "          (0): Conv2d(144, 144, kernel_size=(3, 3), stride=(2, 2), padding=(1, 1), groups=144, bias=False)\n",
              "          (1): BatchNorm2d(144, eps=1e-05, momentum=0.1, affine=True, track_running_stats=True)\n",
              "          (2): ReLU6(inplace=True)\n",
              "        )\n",
              "        (2): Conv2d(144, 32, kernel_size=(1, 1), stride=(1, 1), bias=False)\n",
              "        (3): BatchNorm2d(32, eps=1e-05, momentum=0.1, affine=True, track_running_stats=True)\n",
              "      )\n",
              "    )\n",
              "    (5): InvertedResidual(\n",
              "      (conv): Sequential(\n",
              "        (0): Conv2dNormActivation(\n",
              "          (0): Conv2d(32, 192, kernel_size=(1, 1), stride=(1, 1), bias=False)\n",
              "          (1): BatchNorm2d(192, eps=1e-05, momentum=0.1, affine=True, track_running_stats=True)\n",
              "          (2): ReLU6(inplace=True)\n",
              "        )\n",
              "        (1): Conv2dNormActivation(\n",
              "          (0): Conv2d(192, 192, kernel_size=(3, 3), stride=(1, 1), padding=(1, 1), groups=192, bias=False)\n",
              "          (1): BatchNorm2d(192, eps=1e-05, momentum=0.1, affine=True, track_running_stats=True)\n",
              "          (2): ReLU6(inplace=True)\n",
              "        )\n",
              "        (2): Conv2d(192, 32, kernel_size=(1, 1), stride=(1, 1), bias=False)\n",
              "        (3): BatchNorm2d(32, eps=1e-05, momentum=0.1, affine=True, track_running_stats=True)\n",
              "      )\n",
              "    )\n",
              "    (6): InvertedResidual(\n",
              "      (conv): Sequential(\n",
              "        (0): Conv2dNormActivation(\n",
              "          (0): Conv2d(32, 192, kernel_size=(1, 1), stride=(1, 1), bias=False)\n",
              "          (1): BatchNorm2d(192, eps=1e-05, momentum=0.1, affine=True, track_running_stats=True)\n",
              "          (2): ReLU6(inplace=True)\n",
              "        )\n",
              "        (1): Conv2dNormActivation(\n",
              "          (0): Conv2d(192, 192, kernel_size=(3, 3), stride=(1, 1), padding=(1, 1), groups=192, bias=False)\n",
              "          (1): BatchNorm2d(192, eps=1e-05, momentum=0.1, affine=True, track_running_stats=True)\n",
              "          (2): ReLU6(inplace=True)\n",
              "        )\n",
              "        (2): Conv2d(192, 32, kernel_size=(1, 1), stride=(1, 1), bias=False)\n",
              "        (3): BatchNorm2d(32, eps=1e-05, momentum=0.1, affine=True, track_running_stats=True)\n",
              "      )\n",
              "    )\n",
              "    (7): InvertedResidual(\n",
              "      (conv): Sequential(\n",
              "        (0): Conv2dNormActivation(\n",
              "          (0): Conv2d(32, 192, kernel_size=(1, 1), stride=(1, 1), bias=False)\n",
              "          (1): BatchNorm2d(192, eps=1e-05, momentum=0.1, affine=True, track_running_stats=True)\n",
              "          (2): ReLU6(inplace=True)\n",
              "        )\n",
              "        (1): Conv2dNormActivation(\n",
              "          (0): Conv2d(192, 192, kernel_size=(3, 3), stride=(2, 2), padding=(1, 1), groups=192, bias=False)\n",
              "          (1): BatchNorm2d(192, eps=1e-05, momentum=0.1, affine=True, track_running_stats=True)\n",
              "          (2): ReLU6(inplace=True)\n",
              "        )\n",
              "        (2): Conv2d(192, 64, kernel_size=(1, 1), stride=(1, 1), bias=False)\n",
              "        (3): BatchNorm2d(64, eps=1e-05, momentum=0.1, affine=True, track_running_stats=True)\n",
              "      )\n",
              "    )\n",
              "    (8): InvertedResidual(\n",
              "      (conv): Sequential(\n",
              "        (0): Conv2dNormActivation(\n",
              "          (0): Conv2d(64, 384, kernel_size=(1, 1), stride=(1, 1), bias=False)\n",
              "          (1): BatchNorm2d(384, eps=1e-05, momentum=0.1, affine=True, track_running_stats=True)\n",
              "          (2): ReLU6(inplace=True)\n",
              "        )\n",
              "        (1): Conv2dNormActivation(\n",
              "          (0): Conv2d(384, 384, kernel_size=(3, 3), stride=(1, 1), padding=(1, 1), groups=384, bias=False)\n",
              "          (1): BatchNorm2d(384, eps=1e-05, momentum=0.1, affine=True, track_running_stats=True)\n",
              "          (2): ReLU6(inplace=True)\n",
              "        )\n",
              "        (2): Conv2d(384, 64, kernel_size=(1, 1), stride=(1, 1), bias=False)\n",
              "        (3): BatchNorm2d(64, eps=1e-05, momentum=0.1, affine=True, track_running_stats=True)\n",
              "      )\n",
              "    )\n",
              "    (9): InvertedResidual(\n",
              "      (conv): Sequential(\n",
              "        (0): Conv2dNormActivation(\n",
              "          (0): Conv2d(64, 384, kernel_size=(1, 1), stride=(1, 1), bias=False)\n",
              "          (1): BatchNorm2d(384, eps=1e-05, momentum=0.1, affine=True, track_running_stats=True)\n",
              "          (2): ReLU6(inplace=True)\n",
              "        )\n",
              "        (1): Conv2dNormActivation(\n",
              "          (0): Conv2d(384, 384, kernel_size=(3, 3), stride=(1, 1), padding=(1, 1), groups=384, bias=False)\n",
              "          (1): BatchNorm2d(384, eps=1e-05, momentum=0.1, affine=True, track_running_stats=True)\n",
              "          (2): ReLU6(inplace=True)\n",
              "        )\n",
              "        (2): Conv2d(384, 64, kernel_size=(1, 1), stride=(1, 1), bias=False)\n",
              "        (3): BatchNorm2d(64, eps=1e-05, momentum=0.1, affine=True, track_running_stats=True)\n",
              "      )\n",
              "    )\n",
              "    (10): InvertedResidual(\n",
              "      (conv): Sequential(\n",
              "        (0): Conv2dNormActivation(\n",
              "          (0): Conv2d(64, 384, kernel_size=(1, 1), stride=(1, 1), bias=False)\n",
              "          (1): BatchNorm2d(384, eps=1e-05, momentum=0.1, affine=True, track_running_stats=True)\n",
              "          (2): ReLU6(inplace=True)\n",
              "        )\n",
              "        (1): Conv2dNormActivation(\n",
              "          (0): Conv2d(384, 384, kernel_size=(3, 3), stride=(1, 1), padding=(1, 1), groups=384, bias=False)\n",
              "          (1): BatchNorm2d(384, eps=1e-05, momentum=0.1, affine=True, track_running_stats=True)\n",
              "          (2): ReLU6(inplace=True)\n",
              "        )\n",
              "        (2): Conv2d(384, 64, kernel_size=(1, 1), stride=(1, 1), bias=False)\n",
              "        (3): BatchNorm2d(64, eps=1e-05, momentum=0.1, affine=True, track_running_stats=True)\n",
              "      )\n",
              "    )\n",
              "    (11): InvertedResidual(\n",
              "      (conv): Sequential(\n",
              "        (0): Conv2dNormActivation(\n",
              "          (0): Conv2d(64, 384, kernel_size=(1, 1), stride=(1, 1), bias=False)\n",
              "          (1): BatchNorm2d(384, eps=1e-05, momentum=0.1, affine=True, track_running_stats=True)\n",
              "          (2): ReLU6(inplace=True)\n",
              "        )\n",
              "        (1): Conv2dNormActivation(\n",
              "          (0): Conv2d(384, 384, kernel_size=(3, 3), stride=(1, 1), padding=(1, 1), groups=384, bias=False)\n",
              "          (1): BatchNorm2d(384, eps=1e-05, momentum=0.1, affine=True, track_running_stats=True)\n",
              "          (2): ReLU6(inplace=True)\n",
              "        )\n",
              "        (2): Conv2d(384, 96, kernel_size=(1, 1), stride=(1, 1), bias=False)\n",
              "        (3): BatchNorm2d(96, eps=1e-05, momentum=0.1, affine=True, track_running_stats=True)\n",
              "      )\n",
              "    )\n",
              "    (12): InvertedResidual(\n",
              "      (conv): Sequential(\n",
              "        (0): Conv2dNormActivation(\n",
              "          (0): Conv2d(96, 576, kernel_size=(1, 1), stride=(1, 1), bias=False)\n",
              "          (1): BatchNorm2d(576, eps=1e-05, momentum=0.1, affine=True, track_running_stats=True)\n",
              "          (2): ReLU6(inplace=True)\n",
              "        )\n",
              "        (1): Conv2dNormActivation(\n",
              "          (0): Conv2d(576, 576, kernel_size=(3, 3), stride=(1, 1), padding=(1, 1), groups=576, bias=False)\n",
              "          (1): BatchNorm2d(576, eps=1e-05, momentum=0.1, affine=True, track_running_stats=True)\n",
              "          (2): ReLU6(inplace=True)\n",
              "        )\n",
              "        (2): Conv2d(576, 96, kernel_size=(1, 1), stride=(1, 1), bias=False)\n",
              "        (3): BatchNorm2d(96, eps=1e-05, momentum=0.1, affine=True, track_running_stats=True)\n",
              "      )\n",
              "    )\n",
              "    (13): InvertedResidual(\n",
              "      (conv): Sequential(\n",
              "        (0): Conv2dNormActivation(\n",
              "          (0): Conv2d(96, 576, kernel_size=(1, 1), stride=(1, 1), bias=False)\n",
              "          (1): BatchNorm2d(576, eps=1e-05, momentum=0.1, affine=True, track_running_stats=True)\n",
              "          (2): ReLU6(inplace=True)\n",
              "        )\n",
              "        (1): Conv2dNormActivation(\n",
              "          (0): Conv2d(576, 576, kernel_size=(3, 3), stride=(1, 1), padding=(1, 1), groups=576, bias=False)\n",
              "          (1): BatchNorm2d(576, eps=1e-05, momentum=0.1, affine=True, track_running_stats=True)\n",
              "          (2): ReLU6(inplace=True)\n",
              "        )\n",
              "        (2): Conv2d(576, 96, kernel_size=(1, 1), stride=(1, 1), bias=False)\n",
              "        (3): BatchNorm2d(96, eps=1e-05, momentum=0.1, affine=True, track_running_stats=True)\n",
              "      )\n",
              "    )\n",
              "    (14): InvertedResidual(\n",
              "      (conv): Sequential(\n",
              "        (0): Conv2dNormActivation(\n",
              "          (0): Conv2d(96, 576, kernel_size=(1, 1), stride=(1, 1), bias=False)\n",
              "          (1): BatchNorm2d(576, eps=1e-05, momentum=0.1, affine=True, track_running_stats=True)\n",
              "          (2): ReLU6(inplace=True)\n",
              "        )\n",
              "        (1): Conv2dNormActivation(\n",
              "          (0): Conv2d(576, 576, kernel_size=(3, 3), stride=(2, 2), padding=(1, 1), groups=576, bias=False)\n",
              "          (1): BatchNorm2d(576, eps=1e-05, momentum=0.1, affine=True, track_running_stats=True)\n",
              "          (2): ReLU6(inplace=True)\n",
              "        )\n",
              "        (2): Conv2d(576, 160, kernel_size=(1, 1), stride=(1, 1), bias=False)\n",
              "        (3): BatchNorm2d(160, eps=1e-05, momentum=0.1, affine=True, track_running_stats=True)\n",
              "      )\n",
              "    )\n",
              "    (15): InvertedResidual(\n",
              "      (conv): Sequential(\n",
              "        (0): Conv2dNormActivation(\n",
              "          (0): Conv2d(160, 960, kernel_size=(1, 1), stride=(1, 1), bias=False)\n",
              "          (1): BatchNorm2d(960, eps=1e-05, momentum=0.1, affine=True, track_running_stats=True)\n",
              "          (2): ReLU6(inplace=True)\n",
              "        )\n",
              "        (1): Conv2dNormActivation(\n",
              "          (0): Conv2d(960, 960, kernel_size=(3, 3), stride=(1, 1), padding=(1, 1), groups=960, bias=False)\n",
              "          (1): BatchNorm2d(960, eps=1e-05, momentum=0.1, affine=True, track_running_stats=True)\n",
              "          (2): ReLU6(inplace=True)\n",
              "        )\n",
              "        (2): Conv2d(960, 160, kernel_size=(1, 1), stride=(1, 1), bias=False)\n",
              "        (3): BatchNorm2d(160, eps=1e-05, momentum=0.1, affine=True, track_running_stats=True)\n",
              "      )\n",
              "    )\n",
              "    (16): InvertedResidual(\n",
              "      (conv): Sequential(\n",
              "        (0): Conv2dNormActivation(\n",
              "          (0): Conv2d(160, 960, kernel_size=(1, 1), stride=(1, 1), bias=False)\n",
              "          (1): BatchNorm2d(960, eps=1e-05, momentum=0.1, affine=True, track_running_stats=True)\n",
              "          (2): ReLU6(inplace=True)\n",
              "        )\n",
              "        (1): Conv2dNormActivation(\n",
              "          (0): Conv2d(960, 960, kernel_size=(3, 3), stride=(1, 1), padding=(1, 1), groups=960, bias=False)\n",
              "          (1): BatchNorm2d(960, eps=1e-05, momentum=0.1, affine=True, track_running_stats=True)\n",
              "          (2): ReLU6(inplace=True)\n",
              "        )\n",
              "        (2): Conv2d(960, 160, kernel_size=(1, 1), stride=(1, 1), bias=False)\n",
              "        (3): BatchNorm2d(160, eps=1e-05, momentum=0.1, affine=True, track_running_stats=True)\n",
              "      )\n",
              "    )\n",
              "    (17): InvertedResidual(\n",
              "      (conv): Sequential(\n",
              "        (0): Conv2dNormActivation(\n",
              "          (0): Conv2d(160, 960, kernel_size=(1, 1), stride=(1, 1), bias=False)\n",
              "          (1): BatchNorm2d(960, eps=1e-05, momentum=0.1, affine=True, track_running_stats=True)\n",
              "          (2): ReLU6(inplace=True)\n",
              "        )\n",
              "        (1): Conv2dNormActivation(\n",
              "          (0): Conv2d(960, 960, kernel_size=(3, 3), stride=(1, 1), padding=(1, 1), groups=960, bias=False)\n",
              "          (1): BatchNorm2d(960, eps=1e-05, momentum=0.1, affine=True, track_running_stats=True)\n",
              "          (2): ReLU6(inplace=True)\n",
              "        )\n",
              "        (2): Conv2d(960, 320, kernel_size=(1, 1), stride=(1, 1), bias=False)\n",
              "        (3): BatchNorm2d(320, eps=1e-05, momentum=0.1, affine=True, track_running_stats=True)\n",
              "      )\n",
              "    )\n",
              "    (18): Conv2dNormActivation(\n",
              "      (0): Conv2d(320, 1280, kernel_size=(1, 1), stride=(1, 1), bias=False)\n",
              "      (1): BatchNorm2d(1280, eps=1e-05, momentum=0.1, affine=True, track_running_stats=True)\n",
              "      (2): ReLU6(inplace=True)\n",
              "    )\n",
              "  )\n",
              "  (classifier): Sequential(\n",
              "    (0): Linear(in_features=1280, out_features=512, bias=True)\n",
              "    (1): ReLU()\n",
              "    (2): Dropout(p=0.1, inplace=False)\n",
              "    (3): Linear(in_features=512, out_features=102, bias=True)\n",
              "  )\n",
              ")"
            ]
          },
          "metadata": {},
          "execution_count": 14
        }
      ],
      "source": [
        "# TODO: Write a function that loads a checkpoint and rebuilds the model\n",
        "device=\"cpu\"\n",
        "\n",
        "def load_checkpoint(model, save_path, device=device):\n",
        "  checkpoint = torch.load(save_path, weights_only=True, map_location=device)\n",
        "  model.load_state_dict(checkpoint['model_state_dict'])\n",
        "  optimizer.load_state_dict(checkpoint['optimizer_state_dict'])\n",
        "  epoch = checkpoint['epoch']\n",
        "  loss = checkpoint['loss']\n",
        "  if \"cat_to_name\" in checkpoint.keys():\n",
        "    cat_to_name = checkpoint['cat_to_name']\n",
        "\n",
        "  # Prepare for evaluation and inference\n",
        "  model.eval()\n",
        "  model = model.to(device)\n",
        "  return model\n",
        "\n",
        "prev_path = \"/content/drive/MyDrive/Colab Notebooks/ML/Udacity/models/flowers_classifierV4.0.pth\"\n",
        "SAVE_PATH = prev_path\n",
        "\n",
        "\n",
        "# Load model params\n",
        "#model = load_checkpoint(model, SAVE_PATH)\n",
        "\n",
        "\n",
        "# Load whole model\n",
        "model = torch.load(PATH, weights_only=False, map_location=torch.device('cpu'))\n",
        "model.eval()\n",
        "\n"
      ]
    },
    {
      "cell_type": "markdown",
      "metadata": {
        "id": "7YNX-PSsnEWy"
      },
      "source": [
        "# Inference for classification\n",
        "\n",
        "Now you'll write a function to use a trained network for inference. That is, you'll pass an image into the network and predict the class of the flower in the image. Write a function called `predict` that takes an image and a model, then returns the top $K$ most likely classes along with the probabilities. It should look like\n",
        "\n",
        "```python\n",
        "probs, classes = predict(image_path, model)\n",
        "print(probs)\n",
        "print(classes)\n",
        "> [ 0.01558163  0.01541934  0.01452626  0.01443549  0.01407339]\n",
        "> ['70', '3', '45', '62', '55']\n",
        "```\n",
        "\n",
        "First you'll need to handle processing the input image such that it can be used in your network.\n",
        "\n",
        "## Image Preprocessing\n",
        "\n",
        "You'll want to use `PIL` to load the image ([documentation](https://pillow.readthedocs.io/en/latest/reference/Image.html)). It's best to write a function that preprocesses the image so it can be used as input for the model. This function should process the images in the same manner used for training.\n",
        "\n",
        "First, resize the images where the shortest side is 256 pixels, keeping the aspect ratio. This can be done with the [`thumbnail`](http://pillow.readthedocs.io/en/3.1.x/reference/Image.html#PIL.Image.Image.thumbnail) or [`resize`](http://pillow.readthedocs.io/en/3.1.x/reference/Image.html#PIL.Image.Image.thumbnail) methods. Then you'll need to crop out the center 224x224 portion of the image.\n",
        "\n",
        "Color channels of images are typically encoded as integers 0-255, but the model expected floats 0-1. You'll need to convert the values. It's easiest with a Numpy array, which you can get from a PIL image like so `np_image = np.array(pil_image)`.\n",
        "\n",
        "As before, the network expects the images to be normalized in a specific way. For the means, it's `[0.485, 0.456, 0.406]` and for the standard deviations `[0.229, 0.224, 0.225]`. You'll want to subtract the means from each color channel, then divide by the standard deviation.\n",
        "\n",
        "And finally, PyTorch expects the color channel to be the first dimension but it's the third dimension in the PIL image and Numpy array. You can reorder dimensions using [`ndarray.transpose`](https://docs.scipy.org/doc/numpy-1.13.0/reference/generated/numpy.ndarray.transpose.html). The color channel needs to be first and retain the order of the other two dimensions."
      ]
    },
    {
      "cell_type": "code",
      "execution_count": null,
      "metadata": {
        "id": "ScBDmghnnEWz"
      },
      "outputs": [],
      "source": [
        "def process_image(image):\n",
        "    ''' Scales, crops, and normalizes a PIL image for a PyTorch model,\n",
        "        returns an Numpy array\n",
        "    '''\n",
        "\n",
        "    # TODO: Process a PIL image for use in a PyTorch model\n",
        "    pil_image = Image.open(image)\n",
        "\n",
        "    reverse_transforms = transforms.Compose([\n",
        "        transforms.Resize(size=256),\n",
        "        transforms.CenterCrop(size=(224, 224)),\n",
        "        transforms.ToTensor(),\n",
        "        transforms.Normalize(mean=[0.485, 0.456, 0.406], std=[0.229, 0.224, 0.225]),\n",
        "])\n",
        "    img_tensor = reverse_transforms(pil_image)\n",
        "    return img_tensor"
      ]
    },
    {
      "cell_type": "markdown",
      "metadata": {
        "id": "90DHxanlnEWz"
      },
      "source": [
        "To check your work, the function below converts a PyTorch tensor and displays it in the notebook. If your `process_image` function works, running the output through this function should return the original image (except for the cropped out portions)."
      ]
    },
    {
      "cell_type": "code",
      "execution_count": null,
      "metadata": {
        "id": "QEUlcNLQnEW0"
      },
      "outputs": [],
      "source": [
        "def imshow(image, ax=None, title=None):\n",
        "    \"\"\"Imshow for Tensor.\"\"\"\n",
        "    if ax is None:\n",
        "        fig, ax = plt.subplots()\n",
        "\n",
        "    # PyTorch tensors assume the color channel is the first dimension\n",
        "    # but matplotlib assumes is the third dimension\n",
        "    image = image.numpy().transpose((1, 2, 0))\n",
        "\n",
        "    # Undo preprocessing\n",
        "    mean = np.array([0.485, 0.456, 0.406])\n",
        "    std = np.array([0.229, 0.224, 0.225])\n",
        "    image = std * image + mean\n",
        "\n",
        "    # Image needs to be clipped between 0 and 1 or it looks like noise when displayed\n",
        "    image = np.clip(image, 0, 1)\n",
        "\n",
        "    ax.imshow(image)\n",
        "\n",
        "    return ax\n",
        "\n"
      ]
    },
    {
      "cell_type": "markdown",
      "metadata": {
        "id": "9jgMx1DBnEW0"
      },
      "source": [
        "## Class Prediction\n",
        "\n",
        "Once you can get images in the correct format, it's time to write a function for making predictions with your model. A common practice is to predict the top 5 or so (usually called top-$K$) most probable classes. You'll want to calculate the class probabilities then find the $K$ largest values.\n",
        "\n",
        "To get the top $K$ largest values in a tensor use [`x.topk(k)`](http://pytorch.org/docs/master/torch.html#torch.topk). This method returns both the highest `k` probabilities and the indices of those probabilities corresponding to the classes. You need to convert from these indices to the actual class labels using `class_to_idx` which hopefully you added to the model or from an `ImageFolder` you used to load the data ([see here](#Save-the-checkpoint)). Make sure to invert the dictionary so you get a mapping from index to class as well.\n",
        "\n",
        "Again, this method should take a path to an image and a model checkpoint, then return the probabilities and classes.\n",
        "\n",
        "```python\n",
        "probs, classes = predict(image_path, model)\n",
        "print(probs)\n",
        "print(classes)\n",
        "> [ 0.01558163  0.01541934  0.01452626  0.01443549  0.01407339]\n",
        "> ['70', '3', '45', '62', '55']\n",
        "```"
      ]
    },
    {
      "cell_type": "code",
      "execution_count": null,
      "metadata": {
        "id": "hsqpiEXqnEW1",
        "colab": {
          "base_uri": "https://localhost:8080/"
        },
        "outputId": "7e6b073f-2657-409a-d43d-ced51fee4539"
      },
      "outputs": [
        {
          "output_type": "execute_result",
          "data": {
            "text/plain": [
              "{'18': 'peruvian lily'}"
            ]
          },
          "metadata": {},
          "execution_count": 17
        }
      ],
      "source": [
        "def predict(image_path, model, topk=1):\n",
        "    ''' Predict the class (or classes) of an image using a trained deep learning model.\n",
        "    '''\n",
        "\n",
        "    # TODO: Implement the code to predict the class from an image file\n",
        "    img_tensor = process_image(image_path)\n",
        "    x = img_tensor.unsqueeze(dim=0)\n",
        "    x = x.to(device)\n",
        "    with torch.no_grad():\n",
        "      logits = model(x)\n",
        "    top_logits = torch.topk(input=logits, k=topk, dim=1)\n",
        "\n",
        "    class_list = list()\n",
        "    flowers_names = list()\n",
        "    predict = dict()\n",
        "    for index in top_logits.indices:\n",
        "      predicted = index.item() + 1\n",
        "      class_list.append(predicted)\n",
        "      flowers_names.append(cat_to_name[str(predicted)])\n",
        "      predict[str(predicted)] = cat_to_name[str(predicted)]\n",
        "\n",
        "    return predict\n",
        "\n",
        "\n",
        "directory_path = \"/content/drive/MyDrive/Colab Notebooks/ML/Udacity/flowers/\"\n",
        "\n",
        "img_dict = {\"marguerite\": directory_path + \"marguerite-729510_1280.jpg\",\n",
        "            \"perivian_lily\": directory_path + \"Peruvian-Lily-flowers-768x432.webp\",\n",
        "            \"lotus\": directory_path + \"lotus-8369252_1280.jpg\",\n",
        "            \"chrysanthemum\": directory_path + \"chrysanthemum-8599121_1280.jpg\"}\n",
        "\n",
        "IMG_PATH = img_dict[\"perivian_lily\"]\n",
        "\n",
        "predict(IMG_PATH, model)\n"
      ]
    },
    {
      "cell_type": "markdown",
      "metadata": {
        "id": "vV_KYf_AnEW1"
      },
      "source": [
        "## Sanity Checking\n",
        "\n",
        "Now that you can use a trained model for predictions, check to make sure it makes sense. Even if the testing accuracy is high, it's always good to check that there aren't obvious bugs. Use `matplotlib` to plot the probabilities for the top 5 classes as a bar graph, along with the input image. It should look like this:\n",
        "\n",
        "<img src='assets/inference_example.png' width=300px>\n",
        "\n",
        "You can convert from the class integer encoding to actual flower names with the `cat_to_name.json` file (should have been loaded earlier in the notebook). To show a PyTorch tensor as an image, use the `imshow` function defined above."
      ]
    },
    {
      "cell_type": "code",
      "execution_count": null,
      "metadata": {
        "id": "D9s_oixEnEW2",
        "colab": {
          "base_uri": "https://localhost:8080/",
          "height": 307
        },
        "outputId": "eb2a73b1-193c-435f-8290-3a9aca1ed536"
      },
      "outputs": [
        {
          "output_type": "stream",
          "name": "stdout",
          "text": [
            "{'peruvian lily': 0.7313764691352844, 'pelargonium': 0.08182428032159805, 'clematis': 0.07881505787372589, 'ruby-lipped cattleya': 0.05679471418261528, 'water lily': 0.05118938535451889}\n"
          ]
        },
        {
          "output_type": "display_data",
          "data": {
            "text/plain": [
              "<Figure size 600x900 with 2 Axes>"
            ],
            "image/png": "[encoded data removed]"
          },
          "metadata": {}
        }
      ],
      "source": [
        "# TODO: Display an image along with the top 5 classes\n",
        "\n",
        "\n",
        "def show_prediction(image_path, topk, model=model):\n",
        "    ''' Display an image and the corresponding predicted classes.'''\n",
        "\n",
        "    img_tensor = process_image(image_path)\n",
        "    x = img_tensor.unsqueeze(dim=0)\n",
        "\n",
        "    x = x.to(device)\n",
        "    model = model.to(device)\n",
        "    with torch.no_grad():\n",
        "      logits = model(x)\n",
        "    topk_values, topk_indices = torch.topk(input=logits, k=topk, dim=1)\n",
        "\n",
        "    topk_values_np = topk_values.cpu().numpy()\n",
        "    topk_indices_np = topk_indices.cpu().numpy()\n",
        "\n",
        "    prediction = predict(image_path=image_path, model=model, topk=1)\n",
        "\n",
        "    fig, (ax1, ax2) = plt.subplots(figsize=(6,9), ncols=2)\n",
        "\n",
        "    imshow(img_tensor, ax=ax1)\n",
        "\n",
        "    ax1.axis('off')\n",
        "    ax1.set_title(prediction)\n",
        "    ax2.barh(y=np.arange(topk), width=torch.softmax(topk_values, dim=1).cpu().numpy()[0])\n",
        "    ax2.set_aspect(0.15)\n",
        "    ax2.set_yticks(np.arange(topk))\n",
        "    ax2.set_yticklabels([cat_to_name[str(index.item() + 1)] for index in topk_indices_np[0]], size='small');\n",
        "    ax2.set_title('Class Probability')\n",
        "    ax2.set_xlim(0, 1.05)\n",
        "\n",
        "    plt.tight_layout()\n",
        "\n",
        "    topk_dict = dict()\n",
        "    list_topk_classes = [cat_to_name[str(index.item() + 1)] for index in topk_indices_np[0]]\n",
        "    topk_probabilities = torch.softmax(topk_values, dim=1).cpu().numpy()[0].tolist()\n",
        "\n",
        "    for k, p in zip(list_topk_classes, topk_probabilities):\n",
        "        topk_dict[k] = p\n",
        "\n",
        "    print(topk_dict)\n",
        "\n",
        "\n",
        "show_prediction(image_path=IMG_PATH, topk=5)\n"
      ]
    },
    {
      "cell_type": "code",
      "execution_count": null,
      "metadata": {
        "id": "VC8-R6uenEW3"
      },
      "outputs": [],
      "source": []
    },
    {
      "cell_type": "markdown",
      "metadata": {
        "id": "tCL9k-47nEW3"
      },
      "source": [
        "## Reminder for Workspace users\n",
        "If your network becomes very large when saved as a checkpoint, there might be issues with saving backups in your workspace. You should reduce the size of your hidden layers and train again.\n",
        "    \n",
        "We strongly encourage you to delete these large interim files and directories before navigating to another page or closing the browser tab."
      ]
    },
    {
      "cell_type": "code",
      "execution_count": null,
      "metadata": {
        "id": "GCRfOi_OnEW4"
      },
      "outputs": [],
      "source": [
        "# TODO remove .pth files or move it to a temporary `~/opt` directory in this Workspace\n",
        "#!rm checkpoint.pth"
      ]
    }
  ],
  "metadata": {
    "colab": {
      "gpuType": "T4",
      "provenance": []
    },
    "kernelspec": {
      "display_name": "Python 3",
      "name": "python3"
    },
    "language_info": {
      "codemirror_mode": {
        "name": "ipython",
        "version": 3
      },
      "file_extension": ".py",
      "mimetype": "text/x-python",
      "name": "python",
      "nbconvert_exporter": "python",
      "pygments_lexer": "ipython3",
      "version": "3.10.11"
    },
    "accelerator": "GPU"
  },
  "nbformat": 4,
  "nbformat_minor": 0
}